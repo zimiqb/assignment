{
 "cells": [
  {
   "cell_type": "markdown",
   "id": "7cd7cd07",
   "metadata": {},
   "source": [
    "# Data Science Tools and Ecosystem"
   ]
  },
  {
   "cell_type": "markdown",
   "id": "4fa19076",
   "metadata": {},
   "source": [
    "In this notebook, Data Science Tools and Ecosystem are summarized"
   ]
  },
  {
   "cell_type": "markdown",
   "id": "ba7f7679",
   "metadata": {},
   "source": [
    "# Objective\n",
    "+ python\n",
    "+ R studio\n",
    "+ SQL\n",
    "+ Julia\n",
    "+ MATLAB\n",
    "+ JAVA"
   ]
  },
  {
   "cell_type": "markdown",
   "id": "44e6e164",
   "metadata": {},
   "source": [
    "###### Some of the popular languages that data scientists use are;\n",
    "1. python\n",
    "2. R\n",
    "3. SQL"
   ]
  },
  {
   "cell_type": "markdown",
   "id": "8a7263ca",
   "metadata": {},
   "source": [
    "###### some of the commonly used libraries used by Data Scientist includes;\n",
    "1. Numpy\n",
    "2. Pandas\n",
    "3. Scikit"
   ]
  },
  {
   "cell_type": "markdown",
   "id": "97dba8dc",
   "metadata": {},
   "source": [
    "Data Science Tools |\n",
    "--------------------------- \n",
    "Jupyter Notebook\n",
    "Rstudio\n",
    "Apache"
   ]
  },
  {
   "cell_type": "markdown",
   "id": "48281df0",
   "metadata": {},
   "source": [
    "### Below are a few examples of evaluating arithmetic expressions in Python\n",
    "+ (a+b)\n",
    "+ eval()\n",
    "+ (a*b)\n"
   ]
  },
  {
   "cell_type": "code",
   "execution_count": 4,
   "id": "8032bc37",
   "metadata": {},
   "outputs": [
    {
     "data": {
      "text/plain": [
       "17"
      ]
     },
     "execution_count": 4,
     "metadata": {},
     "output_type": "execute_result"
    }
   ],
   "source": [
    "# This a simple arithmetic expression to mutiply then add integers\n",
    "(3*4)+5"
   ]
  },
  {
   "cell_type": "code",
   "execution_count": 5,
   "id": "dd2e8c0c",
   "metadata": {},
   "outputs": [
    {
     "data": {
      "text/plain": [
       "3.3333333333333335"
      ]
     },
     "execution_count": 5,
     "metadata": {},
     "output_type": "execute_result"
    }
   ],
   "source": [
    "# This will convert 200 minutes to hours by diving by 60\n",
    "(200/60)"
   ]
  },
  {
   "cell_type": "markdown",
   "id": "4dd1ada8",
   "metadata": {},
   "source": [
    "## Author\n",
    "Habeeb"
   ]
  },
  {
   "cell_type": "code",
   "execution_count": null,
   "id": "5e30f738",
   "metadata": {},
   "outputs": [],
   "source": []
  }
 ],
 "metadata": {
  "kernelspec": {
   "display_name": "Python 3 (ipykernel)",
   "language": "python",
   "name": "python3"
  },
  "language_info": {
   "codemirror_mode": {
    "name": "ipython",
    "version": 3
   },
   "file_extension": ".py",
   "mimetype": "text/x-python",
   "name": "python",
   "nbconvert_exporter": "python",
   "pygments_lexer": "ipython3",
   "version": "3.11.4"
  }
 },
 "nbformat": 4,
 "nbformat_minor": 5
}
